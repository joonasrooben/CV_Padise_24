{
 "cells": [
  {
   "cell_type": "markdown",
   "metadata": {},
   "source": [
    "# Masinnägemise töötuba Padisel 2024\n",
    "## Masinõppega numbrituvastus; koodivihik"
   ]
  },
  {
   "cell_type": "code",
   "execution_count": 35,
   "metadata": {},
   "outputs": [],
   "source": [
    "import torch\n",
    "import torchvision\n",
    "import torchvision.transforms as transforms\n",
    "from torch import nn, optim\n",
    "from torch.utils.data import DataLoader\n",
    "import cv2\n",
    "import matplotlib.pyplot as plt\n",
    "import numpy as np"
   ]
  },
  {
   "cell_type": "code",
   "execution_count": null,
   "metadata": {},
   "outputs": [],
   "source": [
    "# Valmista MNIST andmestik \n",
    "def load_mnist_data(batch_size=64):\n",
    "    transform = transforms.Compose([\n",
    "        transforms.ToTensor(),\n",
    "        transforms.Normalize((0.5,), (0.5,))\n",
    "    ])\n",
    "\n",
    "    # Lae alla MNIST andmestik ja jaga treening- ja testandmeteks\n",
    "    train_set = torchvision.datasets.MNIST(root='./data', train=True, download=True, transform=transform)\n",
    "    test_set = torchvision.datasets.MNIST(root='./data', train=False, download=True, transform=transform)\n",
    "\n",
    "    # Loo andmelaadurid\n",
    "    train_loader = DataLoader(train_set, batch_size=batch_size, shuffle=True)\n",
    "    test_loader = DataLoader(test_set, batch_size=batch_size, shuffle=False)\n",
    "    return train_loader, test_loader\n",
    "\n",
    "# Defineeri mudel\n",
    "def create_model():\n",
    "    model = nn.Sequential(\n",
    "        nn.Linear(28*28, 1024), #Perceptron\n",
    "        nn.ReLU(), #aktivatsioon\n",
    "        nn.Linear(1024, 512),\n",
    "        nn.ReLU(),\n",
    "        nn.Linear(512, 256),\n",
    "        nn.ReLU(),\n",
    "        nn.Dropout(0.2), #regularisatsioon\n",
    "        nn.Linear(256, 10) #viimase kihi väljund peab olema klasside arv\n",
    "    )\n",
    "    return model\n",
    "\n",
    "# Selle funktsiooniga saab enda salvestatud mudeli sisse lugeda\n",
    "def load_trained_model(model_path):\n",
    "    model = create_model()\n",
    "    model.load_state_dict(torch.load(model_path))\n",
    "    model.eval()\n",
    "    return model\n",
    "\n",
    "# Treenime mudeli\n",
    "def train_model(model, train_loader, test_loader, num_epochs=3):\n",
    "    criterion = nn.CrossEntropyLoss() #õppimise headuse mõõt ehk kaofunktsioon\n",
    "    optimizer = optim.Adam(model.parameters()) #õpialgoritm\n",
    "    \n",
    "    for epoch in range(num_epochs): #käime läbi kogu andmestiku\n",
    "        model.train()\n",
    "        for images, labels in train_loader: #käime läbi iga \"batchi\"\n",
    "            images = images.view(-1, 28*28)  # Muuda pildid ühedimensionaalseks\n",
    "            optimizer.zero_grad()\n",
    "            outputs = model(images)\n",
    "            loss = criterion(outputs, labels)\n",
    "            loss.backward()\n",
    "            optimizer.step()\n",
    "        \n",
    "        model.eval() #seab mudeli valmis testimiseks\n",
    "        with torch.no_grad(): #mõõdame kui täpne on meie mudel test andmetel\n",
    "            correct = 0\n",
    "            total = 0\n",
    "            for images, labels in test_loader:\n",
    "                images = images.view(-1, 28*28)  # Muuda andmete kuju\n",
    "                outputs = model(images)\n",
    "                _, predicted = torch.max(outputs.data, 1)\n",
    "                total += labels.size(0)\n",
    "                correct += (predicted == labels).sum().item()\n",
    "\n",
    "        print(f'Epohh {epoch+1}, Täpsus: {100 * correct / total}%')\n",
    "\n",
    "    return model\n",
    "\n",
    "train_loader, test_loader = load_mnist_data()\n",
    "    \n",
    "model = create_model()\n",
    "print(\"Treenime nullist\")\n",
    "model = train_model(model, train_loader, test_loader)    \n",
    "# Salvesta mudel\n",
    "torch.save(model.state_dict(), 'mnist_fully_connected_enhanced.pth')\n",
    "\n",
    "\n"
   ]
  },
  {
   "cell_type": "markdown",
   "metadata": {},
   "source": [
    "Proovime mudelit test andmetega:"
   ]
  },
  {
   "cell_type": "code",
   "execution_count": 54,
   "metadata": {},
   "outputs": [],
   "source": [
    "import random\n",
    "\n",
    "def predict_random_test_image(model, test_loader):\n",
    "    # Võtab juhuslikult ühe test andmepunkti ning ennustab selle numbrit\n",
    "    test_images, test_labels = next(iter(test_loader))\n",
    "    random_idx = random.randint(0, len(test_images) - 1)\n",
    "    image, label = test_images[random_idx], test_labels[random_idx]\n",
    "\n",
    "    # Ennusta märgendit\n",
    "    model.eval()\n",
    "    image = image.view(-1, 28*28)\n",
    "    outputs = model(image)\n",
    "    _, predicted = torch.max(outputs, 1)\n",
    "\n",
    "    # Joonista pilt\n",
    "    plt.imshow(image.view(28, 28), cmap='gray')\n",
    "    plt.title(f'Õige: {label.item()}, Ennustatud: {predicted.item()}')\n",
    "    plt.show()\n"
   ]
  },
  {
   "cell_type": "code",
   "execution_count": 52,
   "metadata": {},
   "outputs": [
    {
     "data": {
      "image/png": "[encoded data removed]",
      "text/plain": [
       "<Figure size 640x480 with 1 Axes>"
      ]
     },
     "metadata": {},
     "output_type": "display_data"
    }
   ],
   "source": [
    "predict_random_test_image(model, test_loader)"
   ]
  },
  {
   "cell_type": "markdown",
   "metadata": {},
   "source": [
    "Nüüd, söötmaks mudelile ette meie endi pilte, siis kirjutage funktsioon, mis võtaks sisendiks pildi asukoha arvutis ja mudeli ning ennustakse sellele märgendit ning kuvaks selle:\n",
    "\n",
    "vihjed:\n",
    "1. kasutage `cv2` teeki\n",
    "2. ennustamine on juba ette antud funktsioonis `predict_random_test_image`\n",
    "3. pildi peab muutma mustvalgeks ning suuruse ümber skaleerima\n",
    "4. prooviks saab kasutada pilte: `\"./num6.jpeg\",` `\"./num2.jpeg\"` jne."
   ]
  },
  {
   "cell_type": "code",
   "execution_count": 53,
   "metadata": {},
   "outputs": [],
   "source": [
    "# Eeltöötle pilt ja ennusta \n",
    "def preprocess_and_predict(model, image_path):\n",
    "    # todo: lae pilt üles mustvalgena muutujasse img\n",
    "    # todo: reskaleeri ja pööra pilt negatiivi (treeningandemetes on tint valge)\n",
    "    # normaliseeri pilt nii: img_normalized = img.astype(np.float32) / 255 \n",
    "    #järgenv rida on ette antud, et viia pilt torch formaati \n",
    "    #img = torch.tensor(img_normalized).view(-1, 28*28)\n",
    "\n",
    "    # ennusta ja joonista pilt\n",
    "    return None\n"
   ]
  },
  {
   "cell_type": "code",
   "execution_count": null,
   "metadata": {},
   "outputs": [],
   "source": [
    "preprocess_and_predict(model, \"./num6.jpeg\")"
   ]
  },
  {
   "cell_type": "markdown",
   "metadata": {},
   "source": [
    "**BONUS** \n",
    "\n",
    "Kui tundub, et mudel ei saa meie enda numbritest aru, siis proovige mudelit paremaks saada lisades või eemaldades `create_model()` funktsiooni kihte, muutes aktivatsioone või regularisatsiooni või varieerides treeningu pikkust ehk epohhe. (Vt. ka PyTorchi dokumentatsiooni https://pytorch.org/docs/stable/nn.html)"
   ]
  },
  {
   "cell_type": "markdown",
   "metadata": {},
   "source": [
    "**BONUS** *(päris keeruline)*\n",
    "\n",
    "Kui aega jääb üle, võib ühildada nt YOLO (objektituvastus mudel) ja numbrituvastaja, leidmaks etteantud pilidilt kõik numbrid ja need tuvastada.\n",
    "\n",
    "Abimaterjalid: \n",
    "\n",
    "https://github.com/RafaelsNeurons/Pretrained-YOLO-Object-Detection\n",
    "\n",
    "https://machinelearningprojects.net/train-yolov7-on-the-custom-dataset/"
   ]
  }
 ],
 "metadata": {
  "kernelspec": {
   "display_name": "padise_laager",
   "language": "python",
   "name": "python3"
  },
  "language_info": {
   "codemirror_mode": {
    "name": "ipython",
    "version": 3
   },
   "file_extension": ".py",
   "mimetype": "text/x-python",
   "name": "python",
   "nbconvert_exporter": "python",
   "pygments_lexer": "ipython3",
   "version": "3.9.19"
  },
  "orig_nbformat": 4
 },
 "nbformat": 4,
 "nbformat_minor": 2
}
